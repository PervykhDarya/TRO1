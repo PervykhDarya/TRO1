{
 "cells": [
  {
   "cell_type": "markdown",
   "id": "47668838",
   "metadata": {},
   "source": [
    "### Условие"
   ]
  },
  {
   "cell_type": "markdown",
   "id": "614247b5",
   "metadata": {},
   "source": [
    "15-го января планируется взять кредит в банке на несколько месяцев. Условия его возврата таковы:\n",
    "\n",
    "— 1-го числа каждого месяца долг возврастает на 5% по сравнению с концом предыдущего месяца;\n",
    "\n",
    "— со 2-го по 14-е число месяца необходимо выплатить часть долга;\n",
    "\n",
    "— 15-го числа каждого месяца долг должен быть на одну и ту же сумму меньше долга на 15-е число предыдущего месяца.\n",
    "\n",
    "На сколько месяцев можно взять кредит, если известно, что общая сумма выплат после полного погашения кредита на 25% больше суммы, взятой в кредит."
   ]
  },
  {
   "cell_type": "markdown",
   "id": "b3833df7",
   "metadata": {},
   "source": [
    "### Решение"
   ]
  },
  {
   "attachments": {
    "image-2.png": {
     "image/png": "[encoded data removed]"
    },
    "image.png": {
     "image/png": "[encoded data removed]"
    }
   },
   "cell_type": "markdown",
   "id": "172f7089",
   "metadata": {},
   "source": [
    "По формуле для переплаты П при выплате суммы кредита S дифференцированными платежами имеем:\n",
    "\n",
    "![image.png](attachment:image.png)\n",
    "\n",
    "где n — искомое число месяцев, а r = 5 — величина платежной ставки в процентах (см. Гущин Д. Д. «Встречи с финансовой математикой»; для получения полного балла доказательство этих формул необходимо приводить на экзамене). По условию, переплата П равна 0,25S, тогда:\n",
    "\n",
    "![image-2.png](attachment:image-2.png)\n",
    "\n",
    "откуда n = 9."
   ]
  },
  {
   "cell_type": "code",
   "execution_count": 10,
   "id": "2e056fae",
   "metadata": {},
   "outputs": [
    {
     "name": "stdout",
     "output_type": "stream",
     "text": [
      "Клиент выплатит кредит за 9.0 месяцев\n"
     ]
    }
   ],
   "source": [
    "S = 1\n",
    "r = 0.05\n",
    "n = 0.25*S*2/r*S - 1\n",
    "print(f\"Клиент выплатит кредит за {n} месяцев\")"
   ]
  }
 ],
 "metadata": {
  "kernelspec": {
   "display_name": "Python 3",
   "language": "python",
   "name": "python3"
  },
  "language_info": {
   "codemirror_mode": {
    "name": "ipython",
    "version": 3
   },
   "file_extension": ".py",
   "mimetype": "text/x-python",
   "name": "python",
   "nbconvert_exporter": "python",
   "pygments_lexer": "ipython3",
   "version": "3.8.8"
  }
 },
 "nbformat": 4,
 "nbformat_minor": 5
}
