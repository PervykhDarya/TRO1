{
 "cells": [
  {
   "cell_type": "markdown",
   "metadata": {},
   "source": [
    "# Лабораторная работа 3.1"
   ]
  },
  {
   "cell_type": "markdown",
   "metadata": {},
   "source": [
    "## Счастливый билетик\n",
    "\n",
    "![](http://f2.mylove.ru/UNiHT7dRJ4.jpg)\n",
    "\n",
    "Билет считается счастливым, если выполнено следующее условие: сумма первых трёх цифр номера равна сумме последних трёх цифр.\n",
    "\n",
    "**Задание:**\n",
    "\n",
    "1) Определите число `ticket_number` — шестизначный номер билета;\n",
    "\n",
    "2) Напишите код, который по шестизначному номеру `ticket_number` билетика проверяет, является ли он счастливым;\n",
    "\n",
    "3) Если номер счастливый, выведите строку `Yes`, иначе — `No`.\n",
    "\n",
    "---\n",
    "\n",
    "**Пример 1:**\n",
    "\n",
    "*Input:* 123456\n",
    "\n",
    "*Output:* No\n",
    "\n",
    "\n",
    "**Пример 2:**\n",
    "\n",
    "*Input:* 123042\n",
    "\n",
    "*Output:* Yes"
   ]
  },
  {
   "cell_type": "code",
   "execution_count": 1,
   "metadata": {},
   "outputs": [
    {
     "name": "stdout",
     "output_type": "stream",
     "text": [
      "Номер билета: 123321\n"
     ]
    }
   ],
   "source": [
    "ticket = int(input(\"Номер билета: \"))"
   ]
  },
  {
   "cell_type": "code",
   "execution_count": 2,
   "metadata": {},
   "outputs": [
    {
     "name": "stdout",
     "output_type": "stream",
     "text": [
      "Счастливый билет\n"
     ]
    }
   ],
   "source": [
    "sum1 = ticket // 100000 + ticket // 10000 % 10 + ticket // 1000 % 10\n",
    "sum2 = ticket % 1000 // 100 + ticket % 100 // 10 + ticket % 10\n",
    "if sum1 == sum2:\n",
    "    print(\"Счастливый билет\")\n",
    "else:\n",
    "    print(\"Не счастливый билет\")"
   ]
  },
  {
   "cell_type": "markdown",
   "metadata": {},
   "source": [
    "## Пароль\n",
    "\n",
    "![](http://forum.ixbt.com/post.cgi?id=attach:77:14138:1341:1)\n",
    "\n",
    "Пусть пароль может содержать только латинские буквы, знаки препинания и цифры.\n",
    "\n",
    "Пароль считается надёжным, если удовлетворяет следующим условиям:\n",
    "- содержит буквы в разных регистрах;\n",
    "- содержит цифры;\n",
    "- содержит не менее `4` уникальных символов;\n",
    "- не содержит ваше имя латинницей, записанное буквами любых регистров (anna, iVan, ...).\n",
    "\n",
    "Иначе пароль считается слабым.\n",
    "\n",
    "**Задание:**\n",
    "\n",
    "1) Определите строку `password` — придуманный вами пароль;\n",
    "\n",
    "2) Напишите код, который по паролю `password` проверяет, является ли он надёжным;\n",
    "\n",
    "3) Если пароль надёжный, выведите строку `strong`, иначе — `weak`.\n",
    "\n",
    "\n",
    "---\n",
    "\n",
    "Пусть имя пользоватея -- Андрей.\n",
    "\n",
    "**Пример 1:**\n",
    "\n",
    "*Input:* Aandrei123\n",
    "\n",
    "*Output:* weak\n",
    "\n",
    "\n",
    "**Пример 2:**\n",
    "\n",
    "*Input:* an12dRei\n",
    "\n",
    "*Output:* strong"
   ]
  },
  {
   "cell_type": "code",
   "execution_count": 3,
   "metadata": {},
   "outputs": [
    {
     "name": "stdout",
     "output_type": "stream",
     "text": [
      "Password an12dRei\n",
      "Name? andrei\n"
     ]
    }
   ],
   "source": [
    "password = input(\"Password \")\n",
    "name = input(\"Name? \")"
   ]
  },
  {
   "cell_type": "code",
   "execution_count": 4,
   "metadata": {
    "scrolled": true
   },
   "outputs": [
    {
     "name": "stdout",
     "output_type": "stream",
     "text": [
      "strong\n"
     ]
    }
   ],
   "source": [
    "if password.isalpha() or password.isdigit():\n",
    "    print(\"weak\")\n",
    "    exit(-1)\n",
    "if password.islower() or password.isupper():\n",
    "    print(\"weak\")\n",
    "    exit(-1)\n",
    "unic = set(password)\n",
    "if len(unic) < 4:\n",
    "    print(\"weak\")\n",
    "    exit(-1)\n",
    "if name.lower() in password.lower():\n",
    "    print(\"weak\")\n",
    "    exit(-1)\n",
    "else:\n",
    "    print(\"strong\")"
   ]
  },
  {
   "cell_type": "markdown",
   "metadata": {},
   "source": [
    "## Числа Фибоначчи\n",
    "Как известно, [числа Фибоначчи](https://ru.wikipedia.org/wiki/%D0%A7%D0%B8%D1%81%D0%BB%D0%B0_%D0%A4%D0%B8%D0%B1%D0%BE%D0%BD%D0%B0%D1%87%D1%87%D0%B8) — это последовательность чисел, каждое из которых равно сумме двух предыдущих (первые два числа равны $1$):\n",
    "$$\n",
    "    1, 1, 2, 3, 5, 8, 13, \\ldots\n",
    "$$\n",
    "\n",
    "**Задание:**\n",
    "\n",
    "1) Определите число `amount` — количество чисел Фибоначчи, которые надо вывести;\n",
    "\n",
    "2) Напишите код, который выводит первые `amount` чисел Фибоначчи.\n",
    "\n",
    "---\n",
    "\n",
    "**Пример 1:**\n",
    "\n",
    "*Input:* 3\n",
    "\n",
    "*Output:* 1 1 2\n",
    "\n",
    "\n",
    "**Пример 2:**\n",
    "\n",
    "*Input:* 10\n",
    "\n",
    "*Output:* 1 1 2 3 5 8 13 21 34 55\n"
   ]
  },
  {
   "cell_type": "code",
   "execution_count": 6,
   "metadata": {
    "scrolled": false
   },
   "outputs": [
    {
     "name": "stdout",
     "output_type": "stream",
     "text": [
      "Amount? 7\n"
     ]
    }
   ],
   "source": [
    "amount = int(input(\"Amount? \"))"
   ]
  },
  {
   "cell_type": "code",
   "execution_count": 7,
   "metadata": {},
   "outputs": [
    {
     "name": "stdout",
     "output_type": "stream",
     "text": [
      "1\n",
      "2\n",
      "3\n",
      "5\n",
      "8\n",
      "13\n",
      "21\n"
     ]
    }
   ],
   "source": [
    "a, b = 0, 1\n",
    "for i in range(amount):\n",
    "        sum = a + b\n",
    "        a = b\n",
    "        b = sum\n",
    "        print(sum)"
   ]
  },
  {
   "cell_type": "markdown",
   "metadata": {},
   "source": [
    "## Время исследований\n",
    "\n",
    "![](https://2.bp.blogspot.com/-VOT5x12UqPY/WSh53tQ94HI/AAAAAAAAAMY/-nlcz28_Fj4UzJjbn4bBINKCnzwag1W4QCLcB/s1600/my-pic-widget.jpg)\n",
    "\n",
    "На сайте https://www.kaggle.com/ выберите любой набор данных в формате CSV и проведите для него маленькое исследование: загрузите данные из набора с использованием стандартного модуля `csv`, посмотрите средние значения и стандартные отклонения двух выбранных числовых атрибутов, найдите [методом наименьших квадратов](https://ru.wikipedia.org/wiki/%D0%9C%D0%B5%D1%82%D0%BE%D0%B4_%D0%BD%D0%B0%D0%B8%D0%BC%D0%B5%D0%BD%D1%8C%D1%88%D0%B8%D1%85_%D0%BA%D0%B2%D0%B0%D0%B4%D1%80%D0%B0%D1%82%D0%BE%D0%B2) уравнение линейной зависимости, связывающей один числовой атрибут с другим. Для оценки заданной зависимости найдите [коэффициент парной корреляции](https://ru.wikipedia.org/wiki/%D0%9A%D0%BE%D1%80%D1%80%D0%B5%D0%BB%D1%8F%D1%86%D0%B8%D1%8F), сделайте соответствующие выводы.\n",
    "\n",
    "**Результаты надо обязательно прокомментировать и пояснить!**\n",
    "\n",
    "---\n",
    "\n",
    "**Пример 1:**\n",
    "\n",
    "Пусть таблица `bikes.csv` содержит данные по арендам велосипедов за $2$ года:\n",
    "- `datetime`: дата и время аренды\n",
    "- `season`: время года\n",
    "- `temp`: температура воздуха по Цельсию\n",
    "- `windspeed`: скорость ветра \n",
    "- `registered`: число аренд\n",
    "\n",
    "Одно из направлений исследования могло бы заключаться в проверке зависимости суммарного числа аренд от температуры воздуха."
   ]
  },
  {
   "cell_type": "markdown",
   "metadata": {},
   "source": [
    "*в такой ячейке (режим Markdown) можно писать текст*"
   ]
  },
  {
   "cell_type": "code",
   "execution_count": 1,
   "metadata": {},
   "outputs": [],
   "source": [
    "import csv\n",
    "from math import sqrt\n",
    "\n",
    "\n",
    "with open('sp.csv', 'r', newline='') as csvfile:\n",
    "    data = csv.reader(csvfile, delimiter=',')\n",
    "    ch_t = []\n",
    "    ch_o = []\n",
    "    for row in data:\n",
    "        if row[0] == \"China\":\n",
    "            ch_t.append(float(row[3]))\n",
    "            ch_o.append(float(row[6]))"
   ]
  },
  {
   "cell_type": "code",
   "execution_count": 2,
   "metadata": {},
   "outputs": [
    {
     "name": "stdout",
     "output_type": "stream",
     "text": [
      "Среднее значение коэффициента загрязнения воздуха в Китае : 121.992275447679\n",
      "Среднее значение коэффициента загрязнения воздуха озоном в Китае  : 21.64167907440399\n"
     ]
    }
   ],
   "source": [
    "total = sum(ch_t) / len(ch_t)\n",
    "ozon = sum(ch_o) / len(ch_o)\n",
    "print(\"Среднее значение коэффициента загрязнения воздуха в Китае \"\n",
    "      f\": {total}\"\n",
    ")\n",
    "print(\"Среднее значение коэффициента загрязнения воздуха озоном в \"\n",
    "      \"Китае  \"\n",
    "      f\": {ozon}\"\n",
    ")"
   ]
  },
  {
   "cell_type": "code",
   "execution_count": 3,
   "metadata": {},
   "outputs": [
    {
     "name": "stdout",
     "output_type": "stream",
     "text": [
      "Стандартное отклонение коэффициента общего загрязнения воздуха: 35.43897212905132\n",
      "Стандартное отклонение коэффициента загрязнения воздуха озоном: 8.347006809336012\n"
     ]
    }
   ],
   "source": [
    "v1 = sum((elem-total)**2 for elem in ch_t) / len(ch_t)\n",
    "st_t = sqrt(v1)\n",
    "v2 = sum((elem-ozon)**2 for elem in ch_o) / len(ch_o)\n",
    "st_o = sqrt(v2)\n",
    "print(\"Стандартное отклонение коэффициента общего загрязнения воздуха: \"\n",
    "      f\"{st_t}\"\n",
    ")\n",
    "print(\"Стандартное отклонение коэффициента загрязнения воздуха озоном: \" \n",
    "      f\"{st_o}\"\n",
    ")"
   ]
  },
  {
   "cell_type": "code",
   "execution_count": 4,
   "metadata": {
    "scrolled": true
   },
   "outputs": [
    {
     "name": "stdout",
     "output_type": "stream",
     "text": [
      "Уравнение линейной зависимости: y = 0.23504576503393373x + -7.032088636426096\n",
      "Значения функции на кривой методом наименьших квадратов: \n",
      "36.313454080979696\n",
      "35.69939699313493\n",
      "34.6376395348382\n",
      "33.458560756956444\n",
      "32.24004865765768\n",
      "30.74304612961879\n",
      "29.490684411441464\n",
      "28.150365762587647\n",
      "27.01232071848073\n",
      "25.451643521712214\n",
      "24.261125396094496\n",
      "23.075864927894337\n",
      "22.348132163167616\n",
      "21.716834820734032\n",
      "20.703590364450655\n",
      "19.138354116290287\n",
      "17.1655191635613\n",
      "15.963820292664685\n",
      "15.400474431075878\n",
      "15.120320826131053\n",
      "14.820149736564833\n",
      "14.275957856145585\n",
      "13.128125527779702\n",
      "12.179303219483074\n",
      "11.534252263467575\n",
      "11.36057363933223\n",
      "10.527171970047732\n",
      "10.050282801018767\n"
     ]
    }
   ],
   "source": [
    "sum_ab = 0\n",
    "sum_square = 0\n",
    "for idx, elem in enumerate(ch_t):\n",
    "    sum_ab += elem * ch_o[idx]\n",
    "    sum_square += elem**2\n",
    "size = len(ch_t)\n",
    "k_lin = (size * sum_ab - sum(ch_t) * sum(ch_o))/(size * sum_square - sum(ch_t)**2)\n",
    "b_lin = ozon - total * k_lin\n",
    "func_val = []\n",
    "for elem in ch_t:\n",
    "    func_val.append(k_lin * elem + b_lin)\n",
    "print(f\"Уравнение линейной зависимости: y = {k_lin}x + {b_lin}\")\n",
    "print(\"Значения функции на кривой методом наименьших квадратов: \")\n",
    "for val in func_val:\n",
    "    print(val)"
   ]
  },
  {
   "cell_type": "code",
   "execution_count": 5,
   "metadata": {},
   "outputs": [
    {
     "name": "stdout",
     "output_type": "stream",
     "text": [
      "Коэффициент парной корреляции: 0.9979362071170657\n"
     ]
    }
   ],
   "source": [
    "cor_chisl = 0\n",
    "for idx, elem in enumerate(ch_t):\n",
    "    cor_chisl += (elem - total)*(ch_o[idx] - ozon)\n",
    "sqr_diff_total = sum((elem-total)**2 for elem in ch_t)\n",
    "sqr_diff_ozone = sum((elem-ozon)**2 for elem in ch_o)\n",
    "r_xy = cor_chisl / sqrt(sqr_diff_total * sqr_diff_ozone)\n",
    "print(f\"Коэффициент парной корреляции: {r_xy}\")"
   ]
  }
 ],
 "metadata": {
  "anaconda-cloud": {},
  "kernelspec": {
   "display_name": "Python 3",
   "language": "python",
   "name": "python3"
  },
  "language_info": {
   "codemirror_mode": {
    "name": "ipython",
    "version": 3
   },
   "file_extension": ".py",
   "mimetype": "text/x-python",
   "name": "python",
   "nbconvert_exporter": "python",
   "pygments_lexer": "ipython3",
   "version": "3.8.8"
  }
 },
 "nbformat": 4,
 "nbformat_minor": 1
}
